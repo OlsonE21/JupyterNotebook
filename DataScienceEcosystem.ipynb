{
 "cells": [
  {
   "cell_type": "markdown",
   "id": "1ef3dc7d-4804-49ef-a49c-dd35c18763e8",
   "metadata": {},
   "source": [
    "# Data Science Tools and Ecosystem"
   ]
  },
  {
   "cell_type": "markdown",
   "id": "6bb967e1-30ad-47a5-8e75-770f2e252a76",
   "metadata": {},
   "source": [
    "In this notebook, Data Science Tools and Ecosystem are summarized."
   ]
  },
  {
   "cell_type": "markdown",
   "id": "28853d62-5c25-4e23-a721-a9dffc28e310",
   "metadata": {},
   "source": [
    "**Objectives:**\n",
    "- List popular languages for Data Science\n",
    "- Define API\n",
    "- List the sources of data\n",
    "- List R Capabilities\n",
    "- List the R libraries for Data Science"
   ]
  },
  {
   "cell_type": "markdown",
   "id": "0686b859-766f-4492-8688-6b70b237beb4",
   "metadata": {},
   "source": [
    "Some of the popular languages that Data Scientists use are:\n",
    "\n",
    "1) Python\n",
    "2) R\n",
    "3) SQL"
   ]
  },
  {
   "cell_type": "markdown",
   "id": "30465280-c082-43ee-9133-2c0d43492393",
   "metadata": {},
   "source": [
    "Some of the commonly used libraries used by Data Scientists include:\n",
    "\n",
    "1) NumPy\n",
    "2) Pandas\n",
    "3) Matplotlib"
   ]
  },
  {
   "cell_type": "markdown",
   "id": "fb638900-a461-4b97-a7c1-09350219b92e",
   "metadata": {},
   "source": [
    "| Data Science Tools |\n",
    "| ------------------ |\n",
    "| Jupyter Notebook|\n",
    "| RStudio|\n",
    "| KNIME |"
   ]
  },
  {
   "cell_type": "markdown",
   "id": "f7b7e6b7-db56-49c7-8c44-a89369344d2b",
   "metadata": {},
   "source": [
    "### Below are a few examples of evaluating arithmetic expressions in Python.\n",
    "- ** (Exponentiation)\n",
    "- / (Division)"
   ]
  },
  {
   "cell_type": "code",
   "execution_count": 7,
   "id": "58eefc61-7a82-4dda-986a-d099daa74122",
   "metadata": {},
   "outputs": [
    {
     "data": {
      "text/plain": [
       "17"
      ]
     },
     "execution_count": 7,
     "metadata": {},
     "output_type": "execute_result"
    }
   ],
   "source": [
    "# This is a simple arithmetic expression to multiply then add integers\n",
    "(3*4)+5"
   ]
  },
  {
   "cell_type": "code",
   "execution_count": 17,
   "id": "5963fa34-219e-4f8b-bec3-605669c7438d",
   "metadata": {},
   "outputs": [
    {
     "name": "stdout",
     "output_type": "stream",
     "text": [
      "3.3333333333333335 hours\n"
     ]
    }
   ],
   "source": [
    "# This will convert 200 minutes to hours by dividing by 60\n",
    "x = 200/60\n",
    "unit = \" hours\"\n",
    "result = str(x) + unit\n",
    "print(result)"
   ]
  },
  {
   "cell_type": "markdown",
   "id": "5d3773d6-4b9c-4f73-a6b6-fad0140475b4",
   "metadata": {},
   "source": [
    "## Author\n",
    "Eliott Olson"
   ]
  },
  {
   "cell_type": "code",
   "execution_count": null,
   "id": "50a03ac5-e988-4c19-90e4-aff7e1f2fb61",
   "metadata": {},
   "outputs": [],
   "source": []
  }
 ],
 "metadata": {
  "kernelspec": {
   "display_name": "Python 3 (ipykernel)",
   "language": "python",
   "name": "python3"
  },
  "language_info": {
   "codemirror_mode": {
    "name": "ipython",
    "version": 3
   },
   "file_extension": ".py",
   "mimetype": "text/x-python",
   "name": "python",
   "nbconvert_exporter": "python",
   "pygments_lexer": "ipython3",
   "version": "3.12.8"
  }
 },
 "nbformat": 4,
 "nbformat_minor": 5
}
